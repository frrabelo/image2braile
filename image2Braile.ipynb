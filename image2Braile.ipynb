{
  "nbformat": 4,
  "nbformat_minor": 0,
  "metadata": {
    "colab": {
      "provenance": [],
      "authorship_tag": "ABX9TyPDJFpm1jTUSKUHmqxpofNF",
      "include_colab_link": true
    },
    "kernelspec": {
      "name": "python3",
      "display_name": "Python 3"
    },
    "language_info": {
      "name": "python"
    }
  },
  "cells": [
    {
      "cell_type": "markdown",
      "metadata": {
        "id": "view-in-github",
        "colab_type": "text"
      },
      "source": [
        "<a href=\"https://colab.research.google.com/github/frrabelo/image2braile/blob/main/image2Braile.ipynb\" target=\"_parent\"><img src=\"https://colab.research.google.com/assets/colab-badge.svg\" alt=\"Open In Colab\"/></a>"
      ]
    },
    {
      "cell_type": "code",
      "execution_count": null,
      "metadata": {
        "id": "16bt38CUUeiJ"
      },
      "outputs": [],
      "source": [
        "!pip install --upgrade google-cloud-vision google-colab\n"
      ]
    },
    {
      "cell_type": "code",
      "source": [
        "import io\n",
        "from google.cloud import vision\n",
        "from google.colab.patches import cv2_imshow\n",
        "import cv2\n",
        "from google.colab import files\n",
        "from google.drive import Drive\n"
      ],
      "metadata": {
        "id": "ce8VOocDUsax"
      },
      "execution_count": null,
      "outputs": []
    },
    {
      "cell_type": "code",
      "source": [
        "#Carregue a API Key do Google Gemini de um arquivo seguro no Google Drive\n",
        "from google.colab import drive\n",
        "drive.mount('/content/drive')\n",
        "\n",
        "with open('/content/drive/MyDrive/path/to/your/api_key.json', 'r') as f:\n",
        "    api_key = json.load(f)\n"
      ],
      "metadata": {
        "id": "PcsBif8oU2K-"
      },
      "execution_count": null,
      "outputs": []
    },
    {
      "cell_type": "code",
      "source": [
        "#Crie uma função para carregar a imagem da câmera ou do armazenamento local:\n",
        "def load_image(image_type=\"camera\"):\n",
        "    \"\"\"\n",
        "    Carrega uma imagem da câmera ou do armazenamento local.\n",
        "\n",
        "    Args:\n",
        "        image_type (str): Tipo de imagem (\"camera\" ou \"local\").\n",
        "\n",
        "    Returns:\n",
        "        numpy.ndarray: Imagem carregada.\n",
        "    \"\"\"\n",
        "    if image_type == \"camera\":\n",
        "        # Captura imagem da câmera\n",
        "        cap = cv2.VideoCapture(0)\n",
        "        ret, frame = cap.read()\n",
        "        cap.release()\n",
        "        if not ret:\n",
        "            raise Exception(\"Falha ao capturar imagem da câmera\")\n",
        "        return frame\n",
        "    elif image_type == \"local\":\n",
        "        # Carrega imagem do armazenamento local\n",
        "        uploaded = files.upload()\n",
        "        for filename, content in uploaded.items():\n",
        "            image = cv2.imdecode(np.frombuffer(content, np.uint8), cv2.IMREAD_COLOR)\n",
        "            return image\n",
        "    else:\n",
        "        raise ValueError(\"Tipo de imagem inválido: {}\".format(image_type))\n"
      ],
      "metadata": {
        "id": "CmtyGHLTVIcH"
      },
      "execution_count": null,
      "outputs": []
    },
    {
      "cell_type": "code",
      "source": [
        "#Crie uma função para realizar o reconhecimento de texto na imagem usando a API Key do Google Gemini:\n",
        "def recognize_text(image, api_key):\n",
        "    \"\"\"\n",
        "    Realiza o reconhecimento de texto em uma imagem usando a API Key do Google Gemini.\n",
        "\n",
        "    Args:\n",
        "        image (numpy.ndarray): Imagem para reconhecimento de texto.\n",
        "        api_key (dict): API Key do Google Gemini.\n",
        "\n",
        "    Returns:\n",
        "        list: Lista de dicionários com informações do texto reconhecido.\n",
        "    \"\"\"\n",
        "    client = vision.ImageAnnotatorClient()\n",
        "\n",
        "    # Converter imagem em formato compatível com a API\n",
        "    content = image.tobytes()\n",
        "    image = vision.types.Image(content=content)\n",
        "\n",
        "    # Criar solicitação de detecção de texto\n",
        "    features = [vision.types.Feature(type=vision.types.Feature.TEXT_DETECTION)]\n",
        "    request = vision.types.ImageAnnotationRequest(features=features, image=image)\n",
        "\n",
        "    # Realizar a detecção de texto\n",
        "    response = client.image_annotate(requests=[request])\n",
        "    text_blocks = response.text_annotations\n",
        "\n",
        "    # Extrair informações do texto\n",
        "    recognized_text = []\n",
        "    for text_block in text_blocks:\n",
        "        for paragraph in text_block.paragraphs:\n",
        "            for word in paragraph.words:\n",
        "                recognized_text.append({\n",
        "                    \"bounds\": word.bounding_box,\n",
        "                    \"text\": word.text\n",
        "                })\n",
        "    return recognized_text\n"
      ],
      "metadata": {
        "id": "dRhXWBLkWE8X"
      },
      "execution_count": null,
      "outputs": []
    },
    {
      "cell_type": "code",
      "source": [
        "#Função para Converter Texto com Fonte do Google Drive:\n",
        "#Crie uma função para converter o texto reconhecido em um formato específico usando uma fonte do Google Drive:\n",
        "\n",
        "def convert_text_to_\n"
      ],
      "metadata": {
        "id": "wzT1diF6WUDL"
      },
      "execution_count": null,
      "outputs": []
    },
    {
      "cell_type": "code",
      "source": [
        "#Função para Converter Texto com Fonte do Google Drive:\n",
        "\n",
        "def convert_text_to_document(recognized_text, font_path):\n",
        "    \"\"\"\n",
        "    Converte o texto reconhecido em um documento usando uma fonte do Google Drive.\n",
        "\n",
        "    Args:\n",
        "        recognized_text (list): Lista de dicionários com informações do texto reconhecido.\n",
        "        font_path (str): Caminho para a fonte no Google Drive.\n",
        "\n",
        "    Returns:\n",
        "        str: Texto convertido em formato de documento.\n",
        "    \"\"\"\n",
        "    # Carregar a fonte do Google Drive\n",
        "    with open(font_path, 'rb') as f:\n",
        "        font_data = f.read()\n",
        "\n",
        "    # Criar objeto de fonte\n",
        "    font = cv2.FONT_HERSHEY_SIMPLEX\n",
        "    font_size = 12\n",
        "\n",
        "    # Criar imagem vazia para renderizar o texto\n",
        "    image = np.zeros((500, 500, 3), dtype=np.uint8)\n",
        "\n",
        "    # Desenhar o texto na imagem\n",
        "    for text_info in recognized_text:\n",
        "        x, y, w, h = text_info['bounds']\n",
        "        text = text_info['text']\n",
        "        cv2.putText(image, text, (x, y + h), font, font_size, (0, 0, 0), thickness=2)\n",
        "\n",
        "    # Converter imagem em texto\n",
        "    _, buffer = cv2.imencode('.png', image)\n",
        "    io_obj = io.BytesIO(buffer)\n",
        "\n",
        "    # Carregar biblioteca de processamento de texto\n",
        "    import docx\n",
        "\n",
        "    # Criar novo documento do Word\n",
        "    document = docx.Document()\n",
        "\n",
        "    # Adicionar parágrafo ao documento\n",
        "    paragraph = document.add_paragraph()\n",
        "\n",
        "    # Adicionar imagem com texto ao parágrafo\n",
        "    paragraph.add_run().add_picture(io_obj, width=document.page_width, height=document.page_height)\n",
        "\n",
        "    # Salvar o documento como texto\n",
        "    document_text = document.as_text()\n",
        "\n",
        "    return document_text\n"
      ],
      "metadata": {
        "id": "FNFgUFJDWorK"
      },
      "execution_count": null,
      "outputs": []
    },
    {
      "cell_type": "code",
      "source": [
        "#Função Principal:\n",
        "\n",
        "def main():\n",
        "    # Carregar imagem\n",
        "    image = load_image(image_type=\"camera\")  # \"camera\" ou \"local\"\n",
        "\n",
        "    # Reconhecer texto na imagem\n",
        "    recognized_text = recognize_text(image, api_key)\n",
        "\n",
        "    # Converter texto em documento usando fonte do Google Drive\n",
        "    font_path = '/content/drive/MyDrive/path/to/your/font.ttf'  # Caminho para a fonte\n",
        "    document_text = convert_text_to_document(recognized_text, font_path)\n",
        "\n",
        "    # Exibir o texto convertido\n",
        "    print(document_text)\n",
        "\n",
        "if __name__ == \"__main__\":\n",
        "    main()\n"
      ],
      "metadata": {
        "id": "lqm71pPaW2kZ"
      },
      "execution_count": null,
      "outputs": []
    },
    {
      "cell_type": "markdown",
      "source": [
        "**Observações:**\n",
        "\n",
        "*   List item Substitua api_key pelo conteúdo do seu arquivo JSON da API Key do Google Gemini.\n",
        "*   List item Substitua /content/drive/MyDrive/path/to/your/font.ttf pelo caminho real da fonte no seu Google Drive.\n",
        "*   List item Você pode modificar a função convert_text_to_document para formatar o texto da maneira desejada (tamanho da fonte, espaçamento, etc.).\n",
        "*   List item Este código é apenas um exemplo e pode ser adaptado para atender às suas necessidades específicas.\n",
        "\n",
        "\n",
        "\n",
        "\n"
      ],
      "metadata": {
        "id": "QKuP7Rv6XGZZ"
      }
    },
    {
      "cell_type": "markdown",
      "source": [
        "O código que forneci fornece uma estrutura básica para criar um projeto no Google Colab que utiliza a API Key do Google Gemini para realizar o reconhecimento de texto em uma imagem e converter o texto extraído em um formato específico usando uma fonte do Google Drive.\n",
        "\n",
        "**Algumas considerações adicionais:**\n",
        "\n",
        "*   **Precisão do Reconhecimento de Texto:** A precisão do reconhecimento de texto dependerá da qualidade da imagem e da complexidade do texto. Imagens com baixa iluminação, ruído ou texto em fontes complexas podem ter menor precisão de reconhecimento.\n",
        "*   **Limites da API Key do Google Gemini:** A API Key do Google Gemini possui limites de uso. Certifique-se de verificar os limites e custos da API antes de usá-la em um projeto de produção.\n",
        "*   **Processamento de Texto Avançado:** O código fornecido realiza apenas a conversão básica do texto em um formato de documento. Você pode usar bibliotecas de processamento de texto mais avançadas para realizar tarefas como formatação, correção ortográfica e análise de sentimento.\n",
        "*   **Interface do Usuário:** Você pode aprimorar o projeto criando uma interface do usuário que permita aos usuários selecionar a imagem, escolher a fonte e visualizar o texto convertido de forma mais intuitiva.\n",
        "\n",
        "Recomendo que você explore os recursos adicionais mencionados na resposta anterior para se aprofundar em cada tópico e adaptar o código às suas necessidades específicas."
      ],
      "metadata": {
        "id": "yFpqtPRAXtpL"
      }
    }
  ]
}